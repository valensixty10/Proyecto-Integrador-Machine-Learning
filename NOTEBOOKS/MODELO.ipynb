{
 "cells": [
  {
   "cell_type": "markdown",
   "metadata": {},
   "source": [
    "# **Fase 3 - Modelado y Evaluación**"
   ]
  },
  {
   "cell_type": "markdown",
   "metadata": {},
   "source": [
    "1. Carga de los conjuntos de datos preparados\n",
    "Los conjuntos de datos X_train, X_test, y_train y y_test son cargados desde los archivos CSV generados en la Fase 2: Preparación de los Datos."
   ]
  },
  {
   "cell_type": "code",
   "execution_count": 10,
   "metadata": {},
   "outputs": [],
   "source": [
    "import pandas as pd\n",
    "from sklearn.model_selection import train_test_split\n",
    "from sklearn.ensemble import RandomForestClassifier, RandomForestRegressor\n",
    "from sklearn.metrics import accuracy_score, confusion_matrix, classification_report\n",
    "from sklearn.metrics import mean_squared_error, r2_score\n",
    "import numpy as np\n",
    "\n",
    "# 1. Cargar los conjuntos de datos preparados (desde los archivos CSV generados en la Fase 2)\n",
    "X_train = pd.read_csv('data/X_train.csv')\n",
    "X_test = pd.read_csv('data/X_test.csv')\n",
    "y_train = pd.read_csv('data/y_train.csv').values.ravel()  # Convertir a array\n",
    "y_test = pd.read_csv('data/y_test.csv').values.ravel()\n"
   ]
  },
  {
   "cell_type": "markdown",
   "metadata": {},
   "source": [
    "### Fase 3.1 - Modelo de Clasificación\n",
    "División de precios: Se utiliza la mediana del precio para clasificar los vehículos en \"caros\" y \"baratos\". Todos los vehículos con un precio superior a la mediana se etiquetan como 1 (caro), y los que tienen un precio inferior a la mediana como 0 (barato).\n",
    "\n",
    "Entrenamiento del modelo: Se entrena un modelo de Random Forest Classifier con los datos de entrenamiento (X_train y y_train_class).\n",
    "\n",
    "Evaluación del modelo: Se predicen las clases para el conjunto de prueba y se evalúa el rendimiento del modelo utilizando la exactitud (accuracy), la matriz de confusión y un informe de clasificación con precisión, recall, y F1-score."
   ]
  },
  {
   "cell_type": "code",
   "execution_count": null,
   "metadata": {},
   "outputs": [],
   "source": [
    "# Fase 3.1 - Modelo de Clasificación (Vehículos baratos vs caros)\n",
    "# ---------------------------------------------------------------\n",
    "\n",
    "# 2. Crear la variable de clasificación (barato/caro) usando la mediana del precio\n",
    "precio_median = np.median(y_train)\n",
    "y_train_class = np.where(y_train > precio_median, 1, 0)  # 1 = caro, 0 = barato\n",
    "y_test_class = np.where(y_test > precio_median, 1, 0)\n",
    "\n",
    "# 3. Entrenar un modelo de clasificación con Random Forest\n",
    "clf = RandomForestClassifier(n_estimators=100, random_state=42)\n",
    "clf.fit(X_train, y_train_class)\n",
    "\n",
    "# 4. Predecir los valores del conjunto de prueba\n",
    "y_pred_class = clf.predict(X_test)\n",
    "\n",
    "# 5. Evaluar el modelo de clasificación\n",
    "print(\"Evaluación del Modelo de Clasificación:\")\n",
    "print(f\"Exactitud (Accuracy): {accuracy_score(y_test_class, y_pred_class)}\")\n",
    "print(\"\\nMatriz de Confusión:\")\n",
    "print(confusion_matrix(y_test_class, y_pred_class))\n",
    "print(\"\\nInforme de Clasificación:\")\n",
    "print(classification_report(y_test_class, y_pred_class))"
   ]
  },
  {
   "cell_type": "markdown",
   "metadata": {},
   "source": [
    "### Fase 3.2 - Modelo de Regresión\n",
    "Entrenamiento del modelo: Se entrena un modelo de Random Forest Regressor para predecir el precio exacto de los vehículos.\n",
    "\n",
    "Evaluación del modelo: Se evalúa el rendimiento del modelo de regresión utilizando métricas como el Error Cuadrático Medio (MSE) y el Coeficiente de Determinación (R²), que indica qué tan bien el modelo está prediciendo los precios."
   ]
  },
  {
   "cell_type": "code",
   "execution_count": null,
   "metadata": {},
   "outputs": [],
   "source": [
    "# Fase 3.2 - Modelo de Regresión (Predicción exacta del precio)\n",
    "# -------------------------------------------------------------\n",
    "\n",
    "# 6. Entrenar un modelo de regresión con Random Forest Regressor\n",
    "reg = RandomForestRegressor(n_estimators=100, random_state=42)\n",
    "reg.fit(X_train, y_train)\n",
    "\n",
    "# 7. Predecir los precios en el conjunto de prueba\n",
    "y_pred_reg = reg.predict(X_test)\n",
    "\n",
    "# 8. Evaluar el modelo de regresión\n",
    "print(\"\\nEvaluación del Modelo de Regresión:\")\n",
    "print(f\"Error Cuadrático Medio (MSE): {mean_squared_error(y_test, y_pred_reg)}\")\n",
    "print(f\"R² (Coeficiente de Determinación): {r2_score(y_test, y_pred_reg)}\")\n",
    "\n",
    "print(\"Modelado completo.\")\n"
   ]
  }
 ],
 "metadata": {
  "kernelspec": {
   "display_name": "Proyecto_m6_venv",
   "language": "python",
   "name": "python3"
  },
  "language_info": {
   "codemirror_mode": {
    "name": "ipython",
    "version": 3
   },
   "file_extension": ".py",
   "mimetype": "text/x-python",
   "name": "python",
   "nbconvert_exporter": "python",
   "pygments_lexer": "ipython3",
   "version": "3.10.11"
  }
 },
 "nbformat": 4,
 "nbformat_minor": 2
}
